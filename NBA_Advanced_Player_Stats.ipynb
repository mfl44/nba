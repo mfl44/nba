{
 "cells": [
  {
   "cell_type": "code",
   "execution_count": 1,
   "metadata": {
    "collapsed": true
   },
   "outputs": [],
   "source": [
    "import numpy as np\n",
    "import pandas as pd\n",
    "import csv\n",
    "from datetime import datetime\n",
    "\n",
    "#load csv file containing player season stats (1950 - Present)\n",
    "season_df = pd.read_csv('Season_Stats.csv')"
   ]
  },
  {
   "cell_type": "code",
   "execution_count": 2,
   "metadata": {
    "collapsed": true
   },
   "outputs": [],
   "source": [
    "season_df = season_df[season_df.Year >= 1980]"
   ]
  },
  {
   "cell_type": "code",
   "execution_count": 3,
   "metadata": {
    "collapsed": true
   },
   "outputs": [],
   "source": [
    "NBA_Player_df = pd.DataFrame({\n",
    "    'Player': season_df['Player'],\n",
    "    'Position': season_df['Pos'],\n",
    "    'Team': season_df['Tm'],\n",
    "    'Season_Ending': season_df['Year'],\n",
    "    'Games_Played': season_df['G'],\n",
    "    'Minutes_Played': season_df['MP'],\n",
    "    'PER': season_df['PER'],\n",
    "    '2PTM': season_df['2P'],\n",
    "    '2PTA': season_df['2PA'],\n",
    "    '3PTM': season_df['3P'],\n",
    "    '3PTA': season_df['3PA'],\n",
    "    'FTM': season_df['FT'],\n",
    "    'FTA': season_df['FTA'],\n",
    "    'Off_Reb': season_df['ORB'],\n",
    "    'Def_Reb': season_df['DRB'],\n",
    "    'Assists': season_df['AST'],\n",
    "    'Steals': season_df['STL'],\n",
    "    'Blocks': season_df['BLK'],\n",
    "    'Turnovers': season_df['TOV'],\n",
    "    'Points': season_df['PTS'],\n",
    "    'Fouls': season_df['PF']\n",
    "})"
   ]
  },
  {
   "cell_type": "code",
   "execution_count": 4,
   "metadata": {
    "collapsed": true
   },
   "outputs": [],
   "source": [
    "#adjusted assist to turnover ratio\n",
    "NBA_Player_df['Adj_ATR'] = ((2 * (NBA_Player_df['Assists']))/3)/NBA_Player_df['Turnovers']"
   ]
  },
  {
   "cell_type": "code",
   "execution_count": 5,
   "metadata": {
    "collapsed": true
   },
   "outputs": [],
   "source": [
    "#effective FG%\n",
    "NBA_Player_df['eFG%'] = (NBA_Player_df['2PTM'] + (1.5 * NBA_Player_df['3PTM']))/(NBA_Player_df['2PTA'] + NBA_Player_df['3PTA']) "
   ]
  },
  {
   "cell_type": "code",
   "execution_count": 6,
   "metadata": {
    "collapsed": true
   },
   "outputs": [],
   "source": [
    "#efficiency score for player\n",
    "NBA_Player_df['EFF'] = (NBA_Player_df['Points'] + NBA_Player_df['Off_Reb'] + NBA_Player_df['Def_Reb'] + NBA_Player_df['Steals'] + NBA_Player_df['Blocks'] - (NBA_Player_df['2PTA'] - NBA_Player_df['2PTM']) - (NBA_Player_df['3PTA'] - NBA_Player_df['3PTM']) - (NBA_Player_df['FTA'] - NBA_Player_df['FTM']) - NBA_Player_df['Turnovers'])/(NBA_Player_df['Games_Played']) "
   ]
  },
  {
   "cell_type": "code",
   "execution_count": 7,
   "metadata": {
    "collapsed": true
   },
   "outputs": [],
   "source": [
    "NBA_Player_Stats = pd.DataFrame({\n",
    "    'Player': NBA_Player_df['Player'],\n",
    "    'Team': NBA_Player_df['Team'],\n",
    "    'Season': NBA_Player_df['Season_Ending'],\n",
    "    'Position': NBA_Player_df['Position'],\n",
    "    'PER': NBA_Player_df['PER'],\n",
    "    'EFF': NBA_Player_df['EFF'],\n",
    "    'eFG%': NBA_Player_df['eFG%'],\n",
    "    'Adj_AssistToTurnover': NBA_Player_df['Adj_ATR'],\n",
    "    'Points': NBA_Player_df['Points'],\n",
    "    'Assists': NBA_Player_df['Assists'],\n",
    "    'Blocks': NBA_Player_df['Blocks'],\n",
    "    'Steals': NBA_Player_df['Steals'],\n",
    "    'Turnovers': NBA_Player_df['Turnovers'],\n",
    "    'Minutes_Played': NBA_Player_df['Minutes_Played']\n",
    "})"
   ]
  },
  {
   "cell_type": "code",
   "execution_count": 8,
   "metadata": {
    "collapsed": true
   },
   "outputs": [],
   "source": [
    "NBA_Player_Stats = NBA_Player_Stats[NBA_Player_Stats.Minutes_Played > 500]"
   ]
  },
  {
   "cell_type": "code",
   "execution_count": 9,
   "metadata": {
    "collapsed": true
   },
   "outputs": [],
   "source": [
    "NBA_Player_Stats['Season'] = NBA_Player_Stats['Season'].astype(int).astype(str)\n",
    "NBA_Player_Stats['Season'] = '01/01/' + NBA_Player_Stats['Season']\n",
    "NBA_Player_Stats['Season'] = NBA_Player_Stats['Season'].astype(datetime)"
   ]
  },
  {
   "cell_type": "code",
   "execution_count": 10,
   "metadata": {
    "collapsed": true
   },
   "outputs": [],
   "source": [
    "NBA_Player_Stats.to_csv('NBA_Player_Stats_(Season).csv')"
   ]
  },
  {
   "cell_type": "code",
   "execution_count": null,
   "metadata": {
    "collapsed": true
   },
   "outputs": [],
   "source": []
  }
 ],
 "metadata": {
  "kernelspec": {
   "display_name": "Python 2",
   "language": "python",
   "name": "python2"
  },
  "language_info": {
   "codemirror_mode": {
    "name": "ipython",
    "version": 2
   },
   "file_extension": ".py",
   "mimetype": "text/x-python",
   "name": "python",
   "nbconvert_exporter": "python",
   "pygments_lexer": "ipython2",
   "version": "2.7.13"
  }
 },
 "nbformat": 4,
 "nbformat_minor": 2
}
